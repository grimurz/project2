{
 "cells": [
  {
   "cell_type": "markdown",
   "metadata": {},
   "source": [
    "# Project 2: Web Traffic Analysis\n",
    "**This is the second of three mandatory projects to be handed in as part of the assessment for the course 02807 Computational Tools for Data Science at Technical University of Denmark, autumn 2019.**\n",
    "\n",
    "#### Practical info\n",
    "- **The project is to be done in groups of at most 3 students**\n",
    "- **Each group has to hand in _one_ Jupyter notebook (this notebook) with their solution**\n",
    "- **The hand-in of the notebook is due 2019-11-10, 23:59 on DTU Inside**\n",
    "\n",
    "#### Your solution\n",
    "- **Your solution should be in Python**\n",
    "- **For each question you may use as many cells for your solution as you like**\n",
    "- **You should document your solution and explain the choices you've made (for example by using multiple cells and use Markdown to assist the reader of the notebook)**\n",
    "- **You should not remove the problem statements**\n",
    "- **Your notebook should be runnable, i.e., clicking [>>] in Jupyter should generate the result that you want to be assessed**\n",
    "- **You are not expected to use machine learning to solve any of the exercises**\n",
    "- **You will be assessed according to correctness and readability of your code, choice of solution, choice of tools and libraries, and documentation of your solution**"
   ]
  },
  {
   "cell_type": "markdown",
   "metadata": {},
   "source": [
    "## Introduction\n",
    "In this project your task is to analyze a stream of log entries. A log entry consists of an [IP address](https://en.wikipedia.org/wiki/IP_address) and a [domain name](https://en.wikipedia.org/wiki/Domain_name). For example, a log line may look as follows:\n",
    "\n",
    "`192.168.0.1 somedomain.dk`\n",
    "\n",
    "One log line is the result of the event that the domain name was visited by someone having the corresponding IP address. Your task is to analyze the traffic on a number of domains. Counting the number of unique IPs seen on a domain doesn't correspond to the exact number of unique visitors, but it is a good estimate.\n",
    "\n",
    "Specifically, you should answer the following questions from the stream of log entries.\n",
    "\n",
    "- How many unique IPs are there in the stream?\n",
    "- How many unique IPs are there for each domain?\n",
    "- How many times was IP X seen on domain Y? (for some X and Y provided at run time)\n",
    "\n",
    "**The answers to these questions can be approximate!**\n",
    "\n",
    "You should also try to answer one or more of the following, more advanced, questions. The answers to these should also be approximate.\n",
    "\n",
    "- How many unique IPs are there for the domains $d_1, d_2, \\ldots$?\n",
    "- How many times was IP X seen on domains $d_1, d_2, \\ldots$?\n",
    "- What are the X most frequent IPs in the stream?\n",
    "\n",
    "You should use algorithms and data structures that you've learned about in the lectures, and you should provide your own implementations of these.\n",
    "\n",
    "Furthermore, you are expected to:\n",
    "\n",
    "- Document the accuracy of your answers when using algorithms that give approximate answers\n",
    "- Argue why you are using certain parameters for your data structures\n",
    "\n",
    "This notebook is in three parts. In the first part you are given an example of how to read from the stream (which for the purpose of this project is a remote file). In the second part you should implement the algorithms and data structures that you intend to use, and in the last part you should use these for analyzing the stream."
   ]
  },
  {
   "cell_type": "markdown",
   "metadata": {},
   "source": [
    "## Reading the stream\n",
    "The following code reads a remote file line by line. It is wrapped in a generator to make it easier to extend. You may modify this if you want to, but your solution should remain parametrized, so that your notebook can be run without having to consume the entire file."
   ]
  },
  {
   "cell_type": "code",
   "execution_count": 49,
   "metadata": {},
   "outputs": [],
   "source": [
    "import urllib\n",
    "\n",
    "def stream(n):\n",
    "    i = 0\n",
    "    with urllib.request.urlopen('https://files.dtu.dk/fss/public/link/public/stream/read/traffic_2?linkToken=_DcyO-U3MjjuNzI-&itemName=traffic_2') as f:\n",
    "        for line in f:\n",
    "            element = line.rstrip().decode(\"utf-8\")\n",
    "            yield element\n",
    "            i += 1\n",
    "            if i == n:\n",
    "                break"
   ]
  },
  {
   "cell_type": "code",
   "execution_count": 50,
   "metadata": {},
   "outputs": [
    {
     "name": "stdout",
     "output_type": "stream",
     "text": [
      "186.99.192.116\tpython.org\n",
      "202.152.82.171\twikipedia.org\n",
      "130.126.231.205\tpython.org\n",
      "116.142.112.214\tpandas.pydata.org\n",
      "113.124.204.127\tpython.org\n",
      "143.30.183.87\twikipedia.org\n",
      "138.74.228.219\tpython.org\n",
      "56.120.106.87\twikipedia.org\n",
      "189.119.55.225\twikipedia.org\n",
      "180.110.73.101\twikipedia.org\n"
     ]
    }
   ],
   "source": [
    "STREAM_SIZE = 10\n",
    "web_traffic_stream = stream(STREAM_SIZE)\n",
    "for i in web_traffic_stream:\n",
    "    print(i)"
   ]
  },
  {
   "cell_type": "markdown",
   "metadata": {},
   "source": [
    "## Data structures"
   ]
  },
  {
   "cell_type": "code",
   "execution_count": 125,
   "metadata": {},
   "outputs": [],
   "source": [
    "import numpy as np\n",
    "\n",
    "try:\n",
    "    # try with a fast c-implementation ...\n",
    "    import mmh3 as mmh3\n",
    "except ImportError:\n",
    "    # ... otherwise fallback to this code!\n",
    "    import pymmh3 as mmh3\n",
    "\n",
    "# Length and number of hash tables (4x16 and 4x64)\n",
    "dom_ht_size = 16\n",
    "dom_ht_no = 4\n",
    "ip_ht_size = 64\n",
    "ip_ht_no = 4\n",
    "\n",
    "# Iterative and reference hash tables for domain\n",
    "dom_ht = np.zeros( (dom_ht_no, dom_ht_size) )\n",
    "dom_ht_ref = np.zeros( (dom_ht_no, dom_ht_size, ip_ht_no, ip_ht_size) )\n",
    "\n",
    "seeds = [2,28,280,2800,8008,800,80,8, 1,2,3,4,5,5,6,7,8]\n",
    "    \n",
    "STREAM_SIZE = 5000\n",
    "web_traffic_stream = stream(STREAM_SIZE)\n",
    "\n",
    "for i in web_traffic_stream:\n",
    "    \n",
    "    ip = i.split()[0]\n",
    "    dom = i.split()[1]\n",
    "\n",
    "    dom_indices = [mmh3.hash(dom, seed=s) % dom_ht_size for s in seeds[0:dom_ht_no]]\n",
    "    ip_indices = [mmh3.hash(ip, seed=s) % ip_ht_size for s in seeds[0:ip_ht_no]]\n",
    "\n",
    "    for j,dom_idx in enumerate(dom_indices):\n",
    "        dom_ht[j][dom_idx] += 1\n",
    "        \n",
    "        for k,ip_idx in enumerate(ip_indices):\n",
    "            dom_ht_ref[j][dom_idx][k][ip_idx] += 1\n",
    "\n",
    "#        print(j,idx)\n",
    "\n",
    "#    print(dom_indices)\n",
    "#    print(ip_indices)\n",
    "#    print(ip, dom)"
   ]
  },
  {
   "cell_type": "code",
   "execution_count": 109,
   "metadata": {},
   "outputs": [
    {
     "data": {
      "text/plain": [
       "array([[[[0., 0.],\n",
       "         [0., 0.]],\n",
       "\n",
       "        [[0., 0.],\n",
       "         [0., 0.]]],\n",
       "\n",
       "\n",
       "       [[[0., 0.],\n",
       "         [0., 0.]],\n",
       "\n",
       "        [[0., 0.],\n",
       "         [0., 0.]]]])"
      ]
     },
     "execution_count": 109,
     "metadata": {},
     "output_type": "execute_result"
    }
   ],
   "source": [
    "np.zeros((2,2,2,2))\n",
    "#dom_ht\n",
    "#dom_ht_ref"
   ]
  },
  {
   "cell_type": "markdown",
   "metadata": {},
   "source": [
    "## Analysis"
   ]
  },
  {
   "cell_type": "code",
   "execution_count": 128,
   "metadata": {},
   "outputs": [
    {
     "name": "stdout",
     "output_type": "stream",
     "text": [
      "Number of times 56.120.106.87 was seen on wikipedia.org: 31\n"
     ]
    }
   ],
   "source": [
    "\n",
    "# How many unique IPs are there in the stream?\n",
    "\n",
    "\n",
    "\n",
    "\n",
    "\n",
    "# How many unique IPs are there for each domain?\n",
    "\n",
    "\n",
    "\n",
    "\n",
    "\n",
    "# How many times was IP X seen on domain Y? (for some X and Y provided at run time) (Solved, tested for 500)\n",
    "\n",
    "# Retrieve the indices for wikipedia (and 56.120.106.87)\n",
    "dom_indices = [mmh3.hash('wikipedia.org', seed=s) % dom_ht_size for s in seeds[0:dom_ht_no]] # [3, 0, 11, 13]\n",
    "ip_indices = [mmh3.hash('56.120.106.87', seed=s) % ip_ht_size for s in seeds[0:ip_ht_no]] # [33, 1, 8, 35]\n",
    "\n",
    "# Find the index of domain corrisponding to the lowest count\n",
    "dom_count = [int(j[dom_indices[i]]) for i,j in enumerate(dom_ht)] # [245, 245, 259, 246]\n",
    "dom_count_idx_min = dom_count.index(min(dom_count)) # 0\n",
    "\n",
    "# Find lowest count of the ip\n",
    "ip_count = [int(j[ip_indices[i]]) for i,j in enumerate(dom_ht_ref[dom_count_idx_min][dom_indices[dom_count_idx_min]])] # [3, 5, 5, 2]\n",
    "print('Number of times 56.120.106.87 was seen on wikipedia.org:',min(ip_count))\n",
    "\n",
    "\n",
    "\n",
    "# How many unique IPs are there for the domains  d1,d2,… ?\n",
    "\n",
    "\n",
    "\n",
    "\n",
    "\n",
    "# How many times was IP X seen on domains  d1,d2,… ? (Solved-ish)\n",
    "\n",
    "\n",
    "\n",
    "\n",
    "\n",
    "# What are the X most frequent IPs in the stream?\n",
    "\n",
    "\n",
    "\n",
    "\n",
    "\n",
    "#dom_count_idx_min\n",
    "#dom_ht\n",
    "#dom_ht_ref[0][3]\n",
    "#ip_count\n",
    "#ip_count_idx_min\n",
    "#dom_ht_ref[dom_count_idx_min][dom_indices[dom_count_idx_min]][ip_count_idx_min][ip_indices[ip_count_idx_min]]\n",
    "#dom_ht_ref[dom_count_idx_min][dom_indices[dom_count_idx_min]]"
   ]
  }
 ],
 "metadata": {
  "kernelspec": {
   "display_name": "Python 3",
   "language": "python",
   "name": "python3"
  },
  "language_info": {
   "codemirror_mode": {
    "name": "ipython",
    "version": 3
   },
   "file_extension": ".py",
   "mimetype": "text/x-python",
   "name": "python",
   "nbconvert_exporter": "python",
   "pygments_lexer": "ipython3",
   "version": "3.7.0"
  }
 },
 "nbformat": 4,
 "nbformat_minor": 2
}
